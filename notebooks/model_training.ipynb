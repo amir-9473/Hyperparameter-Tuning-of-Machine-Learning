{
 "cells": [
  {
   "cell_type": "markdown",
   "metadata": {},
   "source": [
    "## 1. Modeling\n"
   ]
  },
  {
   "cell_type": "code",
   "execution_count": 3,
   "metadata": {},
   "outputs": [
    {
     "data": {
      "text/html": [
       "        <script type=\"text/javascript\">\n",
       "        window.PlotlyConfig = {MathJaxConfig: 'local'};\n",
       "        if (window.MathJax && window.MathJax.Hub && window.MathJax.Hub.Config) {window.MathJax.Hub.Config({SVG: {font: \"STIX-Web\"}});}\n",
       "        if (typeof require !== 'undefined') {\n",
       "        require.undef(\"plotly\");\n",
       "        requirejs.config({\n",
       "            paths: {\n",
       "                'plotly': ['https://cdn.plot.ly/plotly-2.32.0.min']\n",
       "            }\n",
       "        });\n",
       "        require(['plotly'], function(Plotly) {\n",
       "            window._Plotly = Plotly;\n",
       "        });\n",
       "        }\n",
       "        </script>\n",
       "        "
      ]
     },
     "metadata": {},
     "output_type": "display_data"
    }
   ],
   "source": [
    "import joblib\n",
    "import optuna\n",
    "import pandas as pd\n",
    "import warnings\n",
    "warnings.filterwarnings('ignore')\n",
    "import matplotlib.pyplot as plt\n",
    "%matplotlib inline\n",
    "import seaborn as sns\n",
    "import plotly.offline as py\n",
    "import plotly.graph_objs as go\n",
    "import plotly.tools as tls\n",
    "py.init_notebook_mode(connected=True)\n",
    "from sklearn.model_selection import train_test_split\n",
    "from sklearn.preprocessing import StandardScaler\n",
    "from sklearn.model_selection import RepeatedKFold\n",
    "from sklearn.model_selection import cross_val_score\n",
    "from sklearn.metrics import accuracy_score, recall_score\n",
    "from sklearn.metrics import confusion_matrix\n",
    "from sklearn.metrics import classification_report\n",
    "from sklearn.metrics import roc_curve, auc\n",
    "from sklearn.neighbors import KNeighborsClassifier\n",
    "from sklearn.linear_model import LogisticRegression\n",
    "from sklearn.tree import DecisionTreeClassifier\n",
    "from sklearn.svm import SVC\n",
    "import optuna.visualization as vis"
   ]
  },
  {
   "cell_type": "markdown",
   "metadata": {},
   "source": [
    "### 1.1 Model preparation"
   ]
  },
  {
   "cell_type": "markdown",
   "metadata": {},
   "source": [
    "#### 1.1.1 Train-Test Split"
   ]
  },
  {
   "cell_type": "code",
   "execution_count": 6,
   "metadata": {},
   "outputs": [],
   "source": [
    "data_cln = pd.read_csv(r\"E:\\Learning\\1.AI-DS\\Projects\\Hyperparameter-Tuning-of-Machine-Learning\\data\\processed\\data_cln1.csv\")\n",
    "x = data_cln.drop(columns=\"Outcome\")\n",
    "y = data_cln[\"Outcome\"]\n",
    "\n",
    "rs = 100     #set randome_state\n",
    "\n",
    "x_train,x_test,y_train,y_test = train_test_split(x,y,test_size=0.20,random_state=rs, stratify=y)"
   ]
  },
  {
   "cell_type": "markdown",
   "metadata": {},
   "source": [
    "#### 1.1.2 Feature Scaling"
   ]
  },
  {
   "cell_type": "code",
   "execution_count": 8,
   "metadata": {},
   "outputs": [],
   "source": [
    "scaler = StandardScaler()\n",
    "scaler.fit(x_train)\n",
    "\n",
    "x_train_ = scaler.transform(x_train)\n",
    "x_test_ = scaler.transform(x_test)"
   ]
  },
  {
   "cell_type": "markdown",
   "metadata": {},
   "source": [
    "#### 1.1.3 Cross Vallidation\n",
    "\n",
    "K-fold cross-validation is a powerful technique in machine learning, dividing the dataset into subsets and training on k-1 folds while testing on the remaining fold.\n",
    "\n",
    "Repeated k-fold cross-validation extends this approach with multiple iterations, reducing variance and ensuring robust model evaluation. It aids in model selection, hyperparameter tuning, and mitigating overfitting, providing reliable estimates of generalization ability.."
   ]
  },
  {
   "cell_type": "code",
   "execution_count": 7,
   "metadata": {},
   "outputs": [],
   "source": [
    "#from sklearn.model_selection import RepeatedKFold\n",
    "\n",
    "cv = RepeatedKFold(n_splits=10 , n_repeats=5, random_state=rs)"
   ]
  },
  {
   "cell_type": "markdown",
   "metadata": {},
   "source": [
    "## What is the hyperparameter tuning?\n",
    "\n",
    "* **Parameters** in a machine learning model are algorithm-produced variables that create predictions based on the training data.\n",
    "\n",
    "* **Hyper-parameters**, on the other hand, are user-defined variables while building the model, controlling the learning process.\n",
    "\n",
    "Hyperparameter optimization aims to find the best solution among all possibilities, optimizing the target value. Packages like GridSearchCV, RandomizedSearchCV, and Optuna assist in identifying the optimal hyperparameter combinations for our models. These techniques are referred to as hyperparameter tuning or optimization.\n",
    "\n",
    "If we don't specify parameter values, default values are used, raising the question of how suitable they are for the dataset, which is crucial to consider during model building.\n",
    "\n",
    "**Basic Techniques:**\n",
    "* RandomizedSearchCV\n",
    "* GridSearchCV\n",
    "\n",
    "**Advanced Techniques:**\n",
    "* Bayesian Optimization\n",
    "* TPOT Classifier(Genetic Algorithm)\n",
    "* Optuna\n",
    "* etc\n",
    "\n",
    "## Why Optuna?\n",
    "\n",
    "Optuna is a versatile hyperparameter tuning library, designed to work with any machine learning or deep learning framework. It offers three key features for optimal hyperparameter optimization:\n",
    "\n",
    "1. Eager search spaces: Automates the search for optimal hyperparameters.\n",
    "2. State-of-the-art algorithms: Efficiently explores large parameter spaces and prunes unproductive trials for faster results.\n",
    "3. Easy parallelization: Enables hyperparameter search across multiple threads or processes without code modification.\n",
    "\n",
    "In this guide, we'll begin by using Optuna with sklearn, a user-friendly machine learning framework."
   ]
  },
  {
   "cell_type": "markdown",
   "metadata": {},
   "source": [
    "## Basic Structure of an Optuna Optimization Script\n",
    "\n",
    "The overall process works differently from the brute-force approach of GridSearchCV. Because of this, let's cover off the different components of the process:\n",
    "\n",
    "1. Defining the objective function\n",
    "2. Creating a Study Object\n",
    "3. Running the Optimization Process\n",
    "\n",
    "The objective function is at the core of how Optuna optimizes the hyperparameter selections. While a brute-force grid search also seeks to minimize an objective function, it doesn't actually take into account what combination of hyperparameters is doing well or not."
   ]
  },
  {
   "cell_type": "markdown",
   "metadata": {},
   "source": [
    "## 1.2 KNN (K-Nearest Neighbors Algorithm)"
   ]
  },
  {
   "cell_type": "code",
   "execution_count": 9,
   "metadata": {},
   "outputs": [],
   "source": [
    "# Creating an Objective Function\n",
    "\n",
    "def objective_knn(trial):\n",
    "    \n",
    "    # Define hyperparameters\n",
    "    param_knn = {'n_neighbors' : trial.suggest_int('n_neighbors', 1, 100)\n",
    "    ,'weights' : trial.suggest_categorical('weights', ['uniform', 'distance']),\n",
    "    'metric' : trial.suggest_categorical('metric', ['euclidean', 'manhattan','minkowski']),\n",
    "    'p' : trial.suggest_int('p', 1, 50),\n",
    "    'algorithm' : trial.suggest_categorical('algorithm',['auto','ball_tree', 'kd_tree', 'brute']),\n",
    "    'leaf_size' : trial.suggest_int('leaf_size', 1, 100)}\n",
    "\n",
    "    # Create and train the model\n",
    "    knn = KNeighborsClassifier(**param_knn)\n",
    "    knn.fit(x_train_, y_train)\n",
    "\n",
    "    # Evaluate the model\n",
    "    score = cross_val_score(knn, x_train_, y_train, cv=cv, scoring=\"accuracy\").mean()\n",
    "\n",
    "    return score"
   ]
  },
  {
   "cell_type": "code",
   "execution_count": null,
   "metadata": {},
   "outputs": [],
   "source": [
    "# Creating and running our optimization\n",
    "\n",
    "study_knn = optuna.create_study(direction='maximize',study_name = \"KNN\")\n",
    "study_knn.optimize(objective_knn, n_trials=500)"
   ]
  },
  {
   "cell_type": "code",
   "execution_count": 11,
   "metadata": {},
   "outputs": [
    {
     "name": "stdout",
     "output_type": "stream",
     "text": [
      "Best trial: 11\n",
      "Best accuracy: 0.8382232612507304\n",
      "Best hyperparameters: {'n_neighbors': 36, 'weights': 'distance', 'metric': 'manhattan', 'p': 50, 'algorithm': 'auto', 'leaf_size': 100}\n"
     ]
    }
   ],
   "source": [
    "# Evaluating our Optuna Trial\n",
    "print(\"Best trial:\", study_knn.best_trial.number)\n",
    "print(\"Best accuracy:\", study_knn.best_trial.value)\n",
    "print(\"Best hyperparameters:\", study_knn.best_params)"
   ]
  },
  {
   "cell_type": "code",
   "execution_count": 12,
   "metadata": {},
   "outputs": [
    {
     "name": "stdout",
     "output_type": "stream",
     "text": [
      "              precision    recall  f1-score   support\n",
      "\n",
      "           0       0.92      0.96      0.94        96\n",
      "           1       0.91      0.84      0.88        51\n",
      "\n",
      "    accuracy                           0.92       147\n",
      "   macro avg       0.92      0.90      0.91       147\n",
      "weighted avg       0.92      0.92      0.92       147\n",
      "\n"
     ]
    },
    {
     "data": {
      "image/png": "[encoded data removed]",
      "text/plain": [
       "<Figure size 640x480 with 2 Axes>"
      ]
     },
     "metadata": {},
     "output_type": "display_data"
    }
   ],
   "source": [
    "best_param_knn = study_knn.best_params\n",
    "KNN = KNeighborsClassifier(**best_param_knn).fit(x_train_,y_train)\n",
    "y_pred_knn = KNN.predict(x_test_)\n",
    "\n",
    "def display_results(y_test, y_pred, cm_title):\n",
    "    cm = confusion_matrix(y_test,y_pred)\n",
    "    sns.heatmap(cm, annot=True, fmt='d').set_title(cm_title)\n",
    "    print(classification_report(y_test,y_pred))\n",
    "    \n",
    "display_results(y_test, y_pred_knn, cm_title = \"Confusion matrix (KNN Model)\")"
   ]
  },
  {
   "cell_type": "code",
   "execution_count": 14,
   "metadata": {},
   "outputs": [
    {
     "data": {
      "text/plain": [
       "['E:\\\\Learning\\\\1.AI-DS\\\\Projects\\\\Hyperparameter-Tuning-of-Machine-Learning\\\\models\\\\KNN.pkl']"
      ]
     },
     "execution_count": 14,
     "metadata": {},
     "output_type": "execute_result"
    }
   ],
   "source": [
    "#save models with outputs\n",
    "\n",
    "joblib.dump(value = [study_knn,KNN,y_pred_knn,best_param_knn],\n",
    "            filename = r\"E:\\Learning\\1.AI-DS\\Projects\\Hyperparameter-Tuning-of-Machine-Learning\\models\\KNN.pkl\")"
   ]
  },
  {
   "cell_type": "markdown",
   "metadata": {},
   "source": [
    "### 1.3 Logistic Regression\n"
   ]
  },
  {
   "cell_type": "code",
   "execution_count": 15,
   "metadata": {},
   "outputs": [],
   "source": [
    "# Creating an Objective Function\n",
    "\n",
    "def objective_lr(trial):\n",
    "    \n",
    "    # Define hyperparameters\n",
    "    param_logr = {'C' : trial.suggest_float(\"C\", 0.001, 10.0, log=True),\n",
    "    'solver' : trial.suggest_categorical('solver',[\"newton-cg\", \"lbfgs\", \"liblinear\", \"sag\", \"saga\"]),\n",
    "    'max_iter' : trial.suggest_int(\"max_iter\", 1, 10000)\n",
    "    }\n",
    "\n",
    "    # Create and train the model\n",
    "    lr = LogisticRegression(**param_logr,random_state=rs)\n",
    "    lr.fit(x_train_, y_train)\n",
    "\n",
    "    # Evaluate the model\n",
    "    score = cross_val_score(lr, x_train_, y_train, cv=cv, scoring=\"accuracy\").mean()\n",
    "\n",
    "    return score"
   ]
  },
  {
   "cell_type": "code",
   "execution_count": null,
   "metadata": {},
   "outputs": [],
   "source": [
    "# Creating and running our optimization\n",
    "\n",
    "study_lr = optuna.create_study(direction='maximize',study_name = \"logr\")\n",
    "study_lr.optimize(objective_lr, n_trials=500)"
   ]
  },
  {
   "cell_type": "code",
   "execution_count": 17,
   "metadata": {},
   "outputs": [
    {
     "name": "stdout",
     "output_type": "stream",
     "text": [
      "Best trial: 44\n",
      "Best accuracy: 0.7989596727060199\n",
      "Best hyperparameters: {'C': 0.0031297386856363094, 'solver': 'liblinear', 'max_iter': 4388}\n"
     ]
    }
   ],
   "source": [
    "# Evaluating our Optuna Trial\n",
    "print(\"Best trial:\", study_lr.best_trial.number)\n",
    "print(\"Best accuracy:\", study_lr.best_trial.value)\n",
    "print(\"Best hyperparameters:\", study_lr.best_params)"
   ]
  },
  {
   "cell_type": "code",
   "execution_count": 18,
   "metadata": {},
   "outputs": [
    {
     "name": "stdout",
     "output_type": "stream",
     "text": [
      "              precision    recall  f1-score   support\n",
      "\n",
      "           0       0.90      0.83      0.86        96\n",
      "           1       0.72      0.82      0.77        51\n",
      "\n",
      "    accuracy                           0.83       147\n",
      "   macro avg       0.81      0.83      0.82       147\n",
      "weighted avg       0.84      0.83      0.83       147\n",
      "\n"
     ]
    },
    {
     "data": {
      "image/png": "[encoded data removed]",
      "text/plain": [
       "<Figure size 640x480 with 2 Axes>"
      ]
     },
     "metadata": {},
     "output_type": "display_data"
    }
   ],
   "source": [
    "best_param_logr = study_lr.best_params\n",
    "LR = LogisticRegression(**best_param_logr).fit(x_train_,y_train)\n",
    "y_pred_lr = LR.predict(x_test_)\n",
    "    \n",
    "display_results(y_test, y_pred_lr, cm_title = \"Confusion matrix (LogR Model)\")"
   ]
  },
  {
   "cell_type": "code",
   "execution_count": 19,
   "metadata": {},
   "outputs": [
    {
     "data": {
      "text/plain": [
       "['E:\\\\Learning\\\\1.AI-DS\\\\Projects\\\\Hyperparameter-Tuning-of-Machine-Learning\\\\models\\\\LogR.pkl']"
      ]
     },
     "execution_count": 19,
     "metadata": {},
     "output_type": "execute_result"
    }
   ],
   "source": [
    "#save models with outputs\n",
    "\n",
    "joblib.dump(value = [study_lr,LR,y_pred_lr,best_param_logr],\n",
    "            filename = r\"E:\\Learning\\1.AI-DS\\Projects\\Hyperparameter-Tuning-of-Machine-Learning\\models\\LogR.pkl\")"
   ]
  },
  {
   "cell_type": "markdown",
   "metadata": {},
   "source": [
    "### 1.4 Decision Tree"
   ]
  },
  {
   "cell_type": "code",
   "execution_count": 47,
   "metadata": {},
   "outputs": [],
   "source": [
    "# Creating an Objective Function\n",
    "\n",
    "def objective_dect(trial):\n",
    "   \n",
    "    max_features_choice = trial.suggest_categorical('max_features', ['auto', 'sqrt', 'log2'])\n",
    "    if max_features_choice == 'auto':\n",
    "        max_features = None  # Set to default behavior\n",
    "    else:\n",
    "        max_features = max_features_choice  # Use suggested string ('sqrt' or 'log2')\n",
    "\n",
    "    # Define hyperparameters\n",
    "    param_dect = {'max_depth' : trial.suggest_int(\"max_depth\", 2, 128),\n",
    "                  'ccp_alpha' :trial.suggest_float('ccp_alpha',0.001, 10.0, log=True),\n",
    "                  'min_samples_split' : trial.suggest_int(\"min_samples_split\", 2, 30),\n",
    "                  'min_samples_leaf' : trial.suggest_int(\"min_samples_leaf\", 1, 30),\n",
    "                  'criterion' : trial.suggest_categorical(\"criterion\", [\"gini\", \"entropy\"])}\n",
    "\n",
    "    # Create and train the model\n",
    "    dect = DecisionTreeClassifier(**param_dect,random_state=rs)\n",
    "    dect.fit(x_train, y_train)\n",
    "\n",
    "    # Evaluate the model\n",
    "    score = cross_val_score(dect, x_train_, y_train, cv=cv, scoring=\"accuracy\").mean()\n",
    "\n",
    "    return score"
   ]
  },
  {
   "cell_type": "code",
   "execution_count": null,
   "metadata": {},
   "outputs": [],
   "source": [
    "# Creating and running our optimization\n",
    "\n",
    "study_dect = optuna.create_study(direction='maximize',study_name = \"Dect\")\n",
    "study_dect.optimize(objective_dect, n_trials=500)"
   ]
  },
  {
   "cell_type": "code",
   "execution_count": 49,
   "metadata": {},
   "outputs": [
    {
     "name": "stdout",
     "output_type": "stream",
     "text": [
      "Best trial: 46\n",
      "Best accuracy: 0.8754821741671536\n",
      "Best hyperparameters: {'max_features': 'log2', 'max_depth': 29, 'ccp_alpha': 0.0020144104395422983, 'min_samples_split': 3, 'min_samples_leaf': 28, 'criterion': 'entropy'}\n"
     ]
    }
   ],
   "source": [
    "# Evaluating our Optuna Trial\n",
    "print(\"Best trial:\", study_dect.best_trial.number)\n",
    "print(\"Best accuracy:\", study_dect.best_trial.value)\n",
    "print(\"Best hyperparameters:\", study_dect.best_params)"
   ]
  },
  {
   "cell_type": "code",
   "execution_count": 108,
   "metadata": {},
   "outputs": [
    {
     "name": "stdout",
     "output_type": "stream",
     "text": [
      "              precision    recall  f1-score   support\n",
      "\n",
      "           0       0.96      0.97      0.96        96\n",
      "           1       0.94      0.92      0.93        51\n",
      "\n",
      "    accuracy                           0.95       147\n",
      "   macro avg       0.95      0.95      0.95       147\n",
      "weighted avg       0.95      0.95      0.95       147\n",
      "\n"
     ]
    },
    {
     "data": {
      "image/png": "[encoded data removed]",
      "text/plain": [
       "<Figure size 640x480 with 2 Axes>"
      ]
     },
     "metadata": {},
     "output_type": "display_data"
    }
   ],
   "source": [
    "best_param_dect = study_dect.best_params\n",
    "DecT = DecisionTreeClassifier(**best_param_dect,random_state=214).fit(x_train,y_train)\n",
    "y_pred_dect = DecT.predict(x_test)\n",
    "    \n",
    "display_results(y_test, y_pred_dect, cm_title = \"Confusion matrix (DecT Model)\")"
   ]
  },
  {
   "cell_type": "code",
   "execution_count": 109,
   "metadata": {},
   "outputs": [
    {
     "data": {
      "text/plain": [
       "['E:\\\\Learning\\\\1.AI-DS\\\\Projects\\\\Hyperparameter-Tuning-of-Machine-Learning\\\\models\\\\DecT.pkl']"
      ]
     },
     "execution_count": 109,
     "metadata": {},
     "output_type": "execute_result"
    }
   ],
   "source": [
    "#save models with outputs\n",
    "\n",
    "joblib.dump(value = [study_dect,DecT,y_pred_dect,best_param_dect],\n",
    "            filename = r\"E:\\Learning\\1.AI-DS\\Projects\\Hyperparameter-Tuning-of-Machine-Learning\\models\\DecT.pkl\")"
   ]
  },
  {
   "cell_type": "markdown",
   "metadata": {},
   "source": [
    "### 1.5 SVM (Support Vector Machine)"
   ]
  },
  {
   "cell_type": "code",
   "execution_count": 110,
   "metadata": {},
   "outputs": [],
   "source": [
    "# Creating an Objective Function\n",
    "\n",
    "def objective_svm(trial):\n",
    "    \n",
    "    # Define hyperparameters\n",
    "    param_svm = { 'C' : trial.suggest_loguniform('C', 1e-3, 1e3),\n",
    "                'gamma' : trial.suggest_loguniform('gamma', 1e-5, 1e0)}\n",
    "\n",
    "    # Create and train the model\n",
    "    svm = SVC(**param_svm,random_state=rs)\n",
    "    svm.fit(x_train_, y_train)\n",
    "\n",
    "    # Evaluate the model\n",
    "    score = cross_val_score(svm, x_train_, y_train, cv=cv, scoring=\"accuracy\").mean()\n",
    "\n",
    "    return score"
   ]
  },
  {
   "cell_type": "code",
   "execution_count": null,
   "metadata": {},
   "outputs": [],
   "source": [
    "# Creating and running our optimization\n",
    "\n",
    "study_svm = optuna.create_study(direction='maximize',study_name =\"SVM\")\n",
    "study_svm.optimize(objective_svm, n_trials=200)"
   ]
  },
  {
   "cell_type": "code",
   "execution_count": 113,
   "metadata": {},
   "outputs": [
    {
     "name": "stdout",
     "output_type": "stream",
     "text": [
      "Best trial: 143\n",
      "Best accuracy: 0.824926943308007\n",
      "Best hyperparameters: {'C': 63.576263613616796, 'gamma': 0.004223336265717692}\n"
     ]
    }
   ],
   "source": [
    "# Evaluating our Optuna Trial\n",
    "print(\"Best trial:\", study_svm.best_trial.number)\n",
    "print(\"Best accuracy:\", study_svm.best_trial.value)\n",
    "print(\"Best hyperparameters:\", study_svm.best_params)"
   ]
  },
  {
   "cell_type": "code",
   "execution_count": 114,
   "metadata": {},
   "outputs": [
    {
     "name": "stdout",
     "output_type": "stream",
     "text": [
      "              precision    recall  f1-score   support\n",
      "\n",
      "           0       0.92      0.90      0.91        96\n",
      "           1       0.81      0.86      0.84        51\n",
      "\n",
      "    accuracy                           0.88       147\n",
      "   macro avg       0.87      0.88      0.87       147\n",
      "weighted avg       0.89      0.88      0.89       147\n",
      "\n"
     ]
    },
    {
     "data": {
      "image/png": "[encoded data removed]",
      "text/plain": [
       "<Figure size 640x480 with 2 Axes>"
      ]
     },
     "metadata": {},
     "output_type": "display_data"
    }
   ],
   "source": [
    "best_param_svm = study_svm.best_params\n",
    "SVM = SVC(**best_param_svm,random_state=rs).fit(x_train_,y_train)\n",
    "y_pred_svm = SVM.predict(x_test_)\n",
    "\n",
    "    \n",
    "display_results(y_test, y_pred_svm, cm_title = \"Confusion matrix (SVM Model)\")"
   ]
  },
  {
   "cell_type": "code",
   "execution_count": 115,
   "metadata": {},
   "outputs": [
    {
     "data": {
      "text/plain": [
       "['E:\\\\Learning\\\\1.AI-DS\\\\Projects\\\\Hyperparameter-Tuning-of-Machine-Learning\\\\models\\\\SVM.pkl']"
      ]
     },
     "execution_count": 115,
     "metadata": {},
     "output_type": "execute_result"
    }
   ],
   "source": [
    "#save models with outputs\n",
    "\n",
    "joblib.dump(value = [study_svm,SVM,y_pred_svm,best_param_svm],\n",
    "            filename = r\"E:\\Learning\\1.AI-DS\\Projects\\Hyperparameter-Tuning-of-Machine-Learning\\models\\SVM.pkl\")"
   ]
  },
  {
   "cell_type": "markdown",
   "metadata": {},
   "source": [
    "## 2. Models Comparison\n",
    "\n",
    "\n",
    "The ROC-Curve plot provides us with a clear view to choose the best model, as it is evident that the decision tree model has the largest area under the curve. Therefore, based on the ROC , the decision tree model is selected as the best model."
   ]
  },
  {
   "cell_type": "code",
   "execution_count": 116,
   "metadata": {},
   "outputs": [
    {
     "data": {
      "image/png": "[encoded data removed]",
      "text/plain": [
       "<Figure size 640x480 with 1 Axes>"
      ]
     },
     "metadata": {},
     "output_type": "display_data"
    }
   ],
   "source": [
    "# calculate fpr, tpr, and thresholds for different threshold values\n",
    "fpr1, tpr1, thresholds1 = roc_curve(y_test, y_pred_svm)\n",
    "fpr2, tpr2, thresholds2 = roc_curve(y_test, y_pred_knn)\n",
    "fpr3, tpr3, thresholds3 = roc_curve(y_test, y_pred_lr)\n",
    "fpr4, tpr4, thresholds3 = roc_curve(y_test, y_pred_dect)\n",
    "\n",
    "# calculate area under curve (AUC)\n",
    "roc_auc1 = auc(fpr1, tpr1)\n",
    "roc_auc2 = auc(fpr2, tpr2)\n",
    "roc_auc3 = auc(fpr3, tpr3)\n",
    "roc_auc4 = auc(fpr4, tpr4)\n",
    "\n",
    "# plot ROC curve\n",
    "plt.figure()\n",
    "plt.plot(fpr1, tpr1, color='darkorange', lw=2, label=f'ROC curve (SVM) (AUC = {roc_auc1:.2f})')\n",
    "plt.plot(fpr2, tpr2, color='red', lw=2, label=f'ROC curve (KNN) (AUC = {roc_auc2:.2f})')\n",
    "plt.plot(fpr3, tpr3, color='green', lw=2, label=f'ROC curve (LogR) (AUC = {roc_auc3:.2f})')\n",
    "plt.plot(fpr4, tpr4, color='purple', lw=2, label=f'ROC curve (DecT) (AUC = {roc_auc4:.2f})')\n",
    "plt.plot([0, 1], [0, 1], color='navy', lw=2, linestyle='--')\n",
    "plt.xlim([0.0, 1.0])\n",
    "plt.ylim([0.0, 1.05])\n",
    "plt.xlabel('False Positive Rate (FPR)')\n",
    "plt.ylabel('True Positive Rate (TPR)')\n",
    "plt.title(\"ROC Curve Plot\")\n",
    "plt.legend(loc=\"lower right\")\n",
    "plt.show()"
   ]
  },
  {
   "cell_type": "markdown",
   "metadata": {},
   "source": [
    "## Which one of the evaluation metrics should be selected?\n",
    "\n",
    "Accuracy, recall, precision, and F1 score are common evaluation metrics used in machine learning to assess the performance of a classification model.\n",
    "\n",
    "**1.** **Accuracy :** It measures the proportion of correct predictions out of the total predictions made by the  model. It is given by (True Positives + True Negatives) / (Total Predictions).\n",
    "\n",
    "**2.** **Recall (Sensitivity/True Positive Rate) :** It calculates the proportion of true positive instances correctly identified by the model over all actual positive instances. It is given by True Positives / (True Positives + False Negatives).\n",
    "\n",
    "**3.** **Precision :** It calculates the proportion of true positive instances correctly identified by the model over all instances classified as positive. It is given by True Positives / (True Positives + False Positives).\n",
    "\n",
    "**4.** **F1 Score :** It is the harmonic mean of precision and recall, providing a balanced measure that considers both false positives and false negatives. It is given by 2 * (Precision * Recall) / (Precision + Recall).\n",
    "\n",
    "\n",
    "\n",
    "In this project, our goal is to predict patients with diabetes and those without. Essentially, we aim to diagnose diabetes, making diabetes a positive class and the absence of diabetes a negative class.\n",
    "\n",
    "As a consequence, misidentifying a person with diabetes as healthy incurs significant costs, and the recall criterion for class 1 holds greater importance than other criteria. Thus, we opt for a model that not only maximizes accuracy but also achieves the highest recall for class 1."
   ]
  },
  {
   "cell_type": "code",
   "execution_count": 125,
   "metadata": {},
   "outputs": [
    {
     "data": {
      "text/html": [
       "<div>\n",
       "<style scoped>\n",
       "    .dataframe tbody tr th:only-of-type {\n",
       "        vertical-align: middle;\n",
       "    }\n",
       "\n",
       "    .dataframe tbody tr th {\n",
       "        vertical-align: top;\n",
       "    }\n",
       "\n",
       "    .dataframe thead th {\n",
       "        text-align: right;\n",
       "    }\n",
       "</style>\n",
       "<table border=\"1\" class=\"dataframe\">\n",
       "  <thead>\n",
       "    <tr style=\"text-align: right;\">\n",
       "      <th></th>\n",
       "      <th>Accuracy</th>\n",
       "      <th>Recall</th>\n",
       "    </tr>\n",
       "  </thead>\n",
       "  <tbody>\n",
       "    <tr>\n",
       "      <th>DecT</th>\n",
       "      <td>0.952</td>\n",
       "      <td>0.922</td>\n",
       "    </tr>\n",
       "    <tr>\n",
       "      <th>KNN</th>\n",
       "      <td>0.918</td>\n",
       "      <td>0.843</td>\n",
       "    </tr>\n",
       "    <tr>\n",
       "      <th>SVM</th>\n",
       "      <td>0.884</td>\n",
       "      <td>0.863</td>\n",
       "    </tr>\n",
       "    <tr>\n",
       "      <th>LR</th>\n",
       "      <td>0.830</td>\n",
       "      <td>0.824</td>\n",
       "    </tr>\n",
       "  </tbody>\n",
       "</table>\n",
       "</div>"
      ],
      "text/plain": [
       "      Accuracy  Recall\n",
       "DecT     0.952   0.922\n",
       "KNN      0.918   0.843\n",
       "SVM      0.884   0.863\n",
       "LR       0.830   0.824"
      ]
     },
     "execution_count": 125,
     "metadata": {},
     "output_type": "execute_result"
    }
   ],
   "source": [
    "def evaluate_model(y_true, y_pred, model_name):\n",
    "    accuracy = round(accuracy_score(y_test, y_pred),3)\n",
    "    recall = round(recall_score(y_test, y_pred, pos_label=1),3)\n",
    "    return pd.Series([accuracy, recall], index=['Accuracy', 'Recall'], name=model_name)\n",
    "\n",
    "# Evaluate metrics\n",
    "knn_metrics = evaluate_model(y_test, y_pred_knn, 'KNN')\n",
    "svm_metrics = evaluate_model(y_test, y_pred_svm, 'SVM')\n",
    "lr_metrics = evaluate_model(y_test, y_pred_lr, 'LR')\n",
    "dect_metrics = evaluate_model(y_test, y_pred_dect, 'DecT')\n",
    "\n",
    "\n",
    "# Create DataFrame with model names as columns and metrics as rows\n",
    "metrics_df = pd.DataFrame([knn_metrics, svm_metrics,lr_metrics,dect_metrics])\n",
    "#metrics_df\n",
    "metrics_df.sort_values(by=['Accuracy'],ascending=False)"
   ]
  },
  {
   "cell_type": "markdown",
   "metadata": {},
   "source": [
    "As a result, as we know, the decision tree model exhibits the highest recall for class 1 as well as the highest accuracy.\n",
    "\n",
    "Hence, we select \"Decision Tree\" as the best model"
   ]
  }
 ],
 "metadata": {
  "kernelspec": {
   "display_name": "venv",
   "language": "python",
   "name": "python3"
  },
  "language_info": {
   "codemirror_mode": {
    "name": "ipython",
    "version": 3
   },
   "file_extension": ".py",
   "mimetype": "text/x-python",
   "name": "python",
   "nbconvert_exporter": "python",
   "pygments_lexer": "ipython3",
   "version": "3.11.2"
  }
 },
 "nbformat": 4,
 "nbformat_minor": 2
}
