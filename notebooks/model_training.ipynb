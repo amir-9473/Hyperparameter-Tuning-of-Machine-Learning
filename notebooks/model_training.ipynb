{
 "cells": [
  {
   "cell_type": "markdown",
   "metadata": {},
   "source": [
    "## 1. Modeling\n"
   ]
  },
  {
   "cell_type": "code",
   "execution_count": 3,
   "metadata": {},
   "outputs": [
    {
     "data": {
      "text/html": [
       "        <script type=\"text/javascript\">\n",
       "        window.PlotlyConfig = {MathJaxConfig: 'local'};\n",
       "        if (window.MathJax && window.MathJax.Hub && window.MathJax.Hub.Config) {window.MathJax.Hub.Config({SVG: {font: \"STIX-Web\"}});}\n",
       "        if (typeof require !== 'undefined') {\n",
       "        require.undef(\"plotly\");\n",
       "        requirejs.config({\n",
       "            paths: {\n",
       "                'plotly': ['https://cdn.plot.ly/plotly-2.32.0.min']\n",
       "            }\n",
       "        });\n",
       "        require(['plotly'], function(Plotly) {\n",
       "            window._Plotly = Plotly;\n",
       "        });\n",
       "        }\n",
       "        </script>\n",
       "        "
      ]
     },
     "metadata": {},
     "output_type": "display_data"
    }
   ],
   "source": [
    "import joblib\n",
    "import optuna\n",
    "import pandas as pd\n",
    "import warnings\n",
    "warnings.filterwarnings('ignore')\n",
    "import matplotlib.pyplot as plt\n",
    "%matplotlib inline\n",
    "import seaborn as sns\n",
    "import plotly.offline as py\n",
    "import plotly.graph_objs as go\n",
    "import plotly.tools as tls\n",
    "py.init_notebook_mode(connected=True)\n",
    "from sklearn.model_selection import train_test_split\n",
    "from sklearn.preprocessing import StandardScaler\n",
    "from sklearn.model_selection import RepeatedKFold\n",
    "from sklearn.model_selection import cross_val_score\n",
    "from sklearn.metrics import accuracy_score, recall_score\n",
    "from sklearn.metrics import confusion_matrix\n",
    "from sklearn.metrics import classification_report\n",
    "from sklearn.metrics import roc_curve, auc\n",
    "from sklearn.neighbors import KNeighborsClassifier\n",
    "from sklearn.linear_model import LogisticRegression\n",
    "from sklearn.tree import DecisionTreeClassifier\n",
    "from sklearn.svm import SVC\n",
    "import optuna.visualization as vis"
   ]
  },
  {
   "cell_type": "markdown",
   "metadata": {},
   "source": [
    "### 1.1 Model preparation"
   ]
  },
  {
   "cell_type": "markdown",
   "metadata": {},
   "source": [
    "#### 1.1.1 Train-Test Split"
   ]
  },
  {
   "cell_type": "code",
   "execution_count": 6,
   "metadata": {},
   "outputs": [],
   "source": [
    "data_cln = pd.read_csv(r\"E:\\Learning\\1.AI-DS\\Projects\\Hyperparameter-Tuning-of-Machine-Learning\\data\\processed\\data_cln1.csv\")\n",
    "x = data_cln.drop(columns=\"Outcome\")\n",
    "y = data_cln[\"Outcome\"]\n",
    "\n",
    "rs = 100     #set randome_state\n",
    "\n",
    "x_train,x_test,y_train,y_test = train_test_split(x,y,test_size=0.20,random_state=rs, stratify=y)"
   ]
  },
  {
   "cell_type": "markdown",
   "metadata": {},
   "source": [
    "#### 1.1.2 Feature Scaling"
   ]
  },
  {
   "cell_type": "code",
   "execution_count": 8,
   "metadata": {},
   "outputs": [],
   "source": [
    "scaler = StandardScaler()\n",
    "scaler.fit(x_train)\n",
    "\n",
    "x_train_ = scaler.transform(x_train)\n",
    "x_test_ = scaler.transform(x_test)"
   ]
  },
  {
   "cell_type": "markdown",
   "metadata": {},
   "source": [
    "#### 1.1.3 Cross Vallidation\n",
    "\n",
    "K-fold cross-validation is a powerful technique in machine learning, dividing the dataset into subsets and training on k-1 folds while testing on the remaining fold.\n",
    "\n",
    "Repeated k-fold cross-validation extends this approach with multiple iterations, reducing variance and ensuring robust model evaluation. It aids in model selection, hyperparameter tuning, and mitigating overfitting, providing reliable estimates of generalization ability.."
   ]
  },
  {
   "cell_type": "code",
   "execution_count": 7,
   "metadata": {},
   "outputs": [],
   "source": [
    "#from sklearn.model_selection import RepeatedKFold\n",
    "\n",
    "cv = RepeatedKFold(n_splits=10 , n_repeats=5, random_state=rs)"
   ]
  },
  {
   "cell_type": "markdown",
   "metadata": {},
   "source": [
    "## What is the hyperparameter tuning?\n",
    "\n",
    "* **Parameters** in a machine learning model are algorithm-produced variables that create predictions based on the training data.\n",
    "\n",
    "* **Hyper-parameters**, on the other hand, are user-defined variables while building the model, controlling the learning process.\n",
    "\n",
    "Hyperparameter optimization aims to find the best solution among all possibilities, optimizing the target value. Packages like GridSearchCV, RandomizedSearchCV, and Optuna assist in identifying the optimal hyperparameter combinations for our models. These techniques are referred to as hyperparameter tuning or optimization.\n",
    "\n",
    "If we don't specify parameter values, default values are used, raising the question of how suitable they are for the dataset, which is crucial to consider during model building.\n",
    "\n",
    "**Basic Techniques:**\n",
    "* RandomizedSearchCV\n",
    "* GridSearchCV\n",
    "\n",
    "**Advanced Techniques:**\n",
    "* Bayesian Optimization\n",
    "* TPOT Classifier(Genetic Algorithm)\n",
    "* Optuna\n",
    "* etc\n",
    "\n",
    "## Why Optuna?\n",
    "\n",
    "Optuna is a versatile hyperparameter tuning library, designed to work with any machine learning or deep learning framework. It offers three key features for optimal hyperparameter optimization:\n",
    "\n",
    "1. Eager search spaces: Automates the search for optimal hyperparameters.\n",
    "2. State-of-the-art algorithms: Efficiently explores large parameter spaces and prunes unproductive trials for faster results.\n",
    "3. Easy parallelization: Enables hyperparameter search across multiple threads or processes without code modification.\n",
    "\n",
    "In this guide, we'll begin by using Optuna with sklearn, a user-friendly machine learning framework."
   ]
  },
  {
   "cell_type": "markdown",
   "metadata": {},
   "source": [
    "## Basic Structure of an Optuna Optimization Script\n",
    "\n",
    "The overall process works differently from the brute-force approach of GridSearchCV. Because of this, let's cover off the different components of the process:\n",
    "\n",
    "1. Defining the objective function\n",
    "2. Creating a Study Object\n",
    "3. Running the Optimization Process\n",
    "\n",
    "The objective function is at the core of how Optuna optimizes the hyperparameter selections. While a brute-force grid search also seeks to minimize an objective function, it doesn't actually take into account what combination of hyperparameters is doing well or not."
   ]
  },
  {
   "cell_type": "markdown",
   "metadata": {},
   "source": [
    "## 1.2 KNN (K-Nearest Neighbors Algorithm)"
   ]
  },
  {
   "cell_type": "code",
   "execution_count": 9,
   "metadata": {},
   "outputs": [],
   "source": [
    "# Creating an Objective Function\n",
    "\n",
    "def objective_knn(trial):\n",
    "    \n",
    "    # Define hyperparameters\n",
    "    param_knn = {'n_neighbors' : trial.suggest_int('n_neighbors', 1, 100)\n",
    "    ,'weights' : trial.suggest_categorical('weights', ['uniform', 'distance']),\n",
    "    'metric' : trial.suggest_categorical('metric', ['euclidean', 'manhattan','minkowski']),\n",
    "    'p' : trial.suggest_int('p', 1, 50),\n",
    "    'algorithm' : trial.suggest_categorical('algorithm',['auto','ball_tree', 'kd_tree', 'brute']),\n",
    "    'leaf_size' : trial.suggest_int('leaf_size', 1, 100)}\n",
    "\n",
    "    # Create and train the model\n",
    "    knn = KNeighborsClassifier(**param_knn)\n",
    "    knn.fit(x_train_, y_train)\n",
    "\n",
    "    # Evaluate the model\n",
    "    score = cross_val_score(knn, x_train_, y_train, cv=cv, scoring=\"accuracy\").mean()\n",
    "\n",
    "    return score"
   ]
  },
  {
   "cell_type": "code",
   "execution_count": null,
   "metadata": {},
   "outputs": [],
   "source": [
    "# Creating and running our optimization\n",
    "\n",
    "study_knn = optuna.create_study(direction='maximize',study_name = \"KNN\")\n",
    "study_knn.optimize(objective_knn, n_trials=500)"
   ]
  },
  {
   "cell_type": "code",
   "execution_count": 11,
   "metadata": {},
   "outputs": [
    {
     "name": "stdout",
     "output_type": "stream",
     "text": [
      "Best trial: 11\n",
      "Best accuracy: 0.8382232612507304\n",
      "Best hyperparameters: {'n_neighbors': 36, 'weights': 'distance', 'metric': 'manhattan', 'p': 50, 'algorithm': 'auto', 'leaf_size': 100}\n"
     ]
    }
   ],
   "source": [
    "# Evaluating our Optuna Trial\n",
    "print(\"Best trial:\", study_knn.best_trial.number)\n",
    "print(\"Best accuracy:\", study_knn.best_trial.value)\n",
    "print(\"Best hyperparameters:\", study_knn.best_params)"
   ]
  },
  {
   "cell_type": "code",
   "execution_count": 12,
   "metadata": {},
   "outputs": [
    {
     "name": "stdout",
     "output_type": "stream",
     "text": [
      "              precision    recall  f1-score   support\n",
      "\n",
      "           0       0.92      0.96      0.94        96\n",
      "           1       0.91      0.84      0.88        51\n",
      "\n",
      "    accuracy                           0.92       147\n",
      "   macro avg       0.92      0.90      0.91       147\n",
      "weighted avg       0.92      0.92      0.92       147\n",
      "\n"
     ]
    },
    {
     "data": {
      "image/png": "[encoded data removed]",
      "text/plain": [
       "<Figure size 640x480 with 2 Axes>"
      ]
     },
     "metadata": {},
     "output_type": "display_data"
    }
   ],
   "source": [
    "best_param_knn = study_knn.best_params\n",
    "KNN = KNeighborsClassifier(**best_param_knn).fit(x_train_,y_train)\n",
    "y_pred_knn = KNN.predict(x_test_)\n",
    "\n",
    "def display_results(y_test, y_pred, cm_title):\n",
    "    cm = confusion_matrix(y_test,y_pred)\n",
    "    sns.heatmap(cm, annot=True, fmt='d').set_title(cm_title)\n",
    "    print(classification_report(y_test,y_pred))\n",
    "    \n",
    "display_results(y_test, y_pred_knn, cm_title = \"Confusion matrix (KNN Model)\")"
   ]
  },
  {
   "cell_type": "code",
   "execution_count": 14,
   "metadata": {},
   "outputs": [
    {
     "data": {
      "text/plain": [
       "['E:\\\\Learning\\\\1.AI-DS\\\\Projects\\\\Hyperparameter-Tuning-of-Machine-Learning\\\\models\\\\KNN.pkl']"
      ]
     },
     "execution_count": 14,
     "metadata": {},
     "output_type": "execute_result"
    }
   ],
   "source": [
    "#save models with outputs\n",
    "\n",
    "joblib.dump(value = [study_knn,KNN,y_pred_knn,best_param_knn],\n",
    "            filename = r\"E:\\Learning\\1.AI-DS\\Projects\\Hyperparameter-Tuning-of-Machine-Learning\\models\\KNN.pkl\")"
   ]
  },
  {
   "cell_type": "markdown",
   "metadata": {},
   "source": [
    "### 1.3 Logistic Regression\n"
   ]
  },
  {
   "cell_type": "code",
   "execution_count": 15,
   "metadata": {},
   "outputs": [],
   "source": [
    "# Creating an Objective Function\n",
    "\n",
    "def objective_lr(trial):\n",
    "    \n",
    "    # Define hyperparameters\n",
    "    param_logr = {'C' : trial.suggest_float(\"C\", 0.001, 10.0, log=True),\n",
    "    'solver' : trial.suggest_categorical('solver',[\"newton-cg\", \"lbfgs\", \"liblinear\", \"sag\", \"saga\"]),\n",
    "    'max_iter' : trial.suggest_int(\"max_iter\", 1, 10000)\n",
    "    }\n",
    "\n",
    "    # Create and train the model\n",
    "    lr = LogisticRegression(**param_logr,random_state=rs)\n",
    "    lr.fit(x_train_, y_train)\n",
    "\n",
    "    # Evaluate the model\n",
    "    score = cross_val_score(lr, x_train_, y_train, cv=cv, scoring=\"accuracy\").mean()\n",
    "\n",
    "    return score"
   ]
  },
  {
   "cell_type": "code",
   "execution_count": null,
   "metadata": {},
   "outputs": [],
   "source": [
    "# Creating and running our optimization\n",
    "\n",
    "study_lr = optuna.create_study(direction='maximize',study_name = \"logr\")\n",
    "study_lr.optimize(objective_lr, n_trials=500)"
   ]
  },
  {
   "cell_type": "code",
   "execution_count": 17,
   "metadata": {},
   "outputs": [
    {
     "name": "stdout",
     "output_type": "stream",
     "text": [
      "Best trial: 44\n",
      "Best accuracy: 0.7989596727060199\n",
      "Best hyperparameters: {'C': 0.0031297386856363094, 'solver': 'liblinear', 'max_iter': 4388}\n"
     ]
    }
   ],
   "source": [
    "# Evaluating our Optuna Trial\n",
    "print(\"Best trial:\", study_lr.best_trial.number)\n",
    "print(\"Best accuracy:\", study_lr.best_trial.value)\n",
    "print(\"Best hyperparameters:\", study_lr.best_params)"
   ]
  },
  {
   "cell_type": "code",
   "execution_count": 18,
   "metadata": {},
   "outputs": [
    {
     "name": "stdout",
     "output_type": "stream",
     "text": [
      "              precision    recall  f1-score   support\n",
      "\n",
      "           0       0.90      0.83      0.86        96\n",
      "           1       0.72      0.82      0.77        51\n",
      "\n",
      "    accuracy                           0.83       147\n",
      "   macro avg       0.81      0.83      0.82       147\n",
      "weighted avg       0.84      0.83      0.83       147\n",
      "\n"
     ]
    },
    {
     "data": {
      "image/png": "[encoded data removed]",
      "text/plain": [
       "<Figure size 640x480 with 2 Axes>"
      ]
     },
     "metadata": {},
     "output_type": "display_data"
    }
   ],
   "source": [
    "best_param_logr = study_lr.best_params\n",
    "LR = LogisticRegression(**best_param_logr).fit(x_train_,y_train)\n",
    "y_pred_lr = LR.predict(x_test_)\n",
    "    \n",
    "display_results(y_test, y_pred_lr, cm_title = \"Confusion matrix (LogR Model)\")"
   ]
  }
 ],
 "metadata": {
  "kernelspec": {
   "display_name": "venv",
   "language": "python",
   "name": "python3"
  },
  "language_info": {
   "codemirror_mode": {
    "name": "ipython",
    "version": 3
   },
   "file_extension": ".py",
   "mimetype": "text/x-python",
   "name": "python",
   "nbconvert_exporter": "python",
   "pygments_lexer": "ipython3",
   "version": "3.11.2"
  }
 },
 "nbformat": 4,
 "nbformat_minor": 2
}
